{
    "cells": [
        {
            "metadata": {},
            "cell_type": "markdown",
            "source": "Welcome to the final project of \u201cApache Spark for Scalable Machine Learning on BigData\u201d. In this assignment you\u2019ll analyze a real-world dataset and apply machine learning on it using Apache Spark. \n\nIn order to pass, you need to implement some code (basically replace the parts marked with $$) and finally answer a quiz on the Coursera platform.\n\nLet\u2019s start by downloading the dataset and creating a dataframe. This dataset can be found on DAX, the IBM Data Asset Exchange and can be downloaded for free.\n\nhttps://developer.ibm.com/exchanges/data/all/jfk-weather-data/\n"
        },
        {
            "metadata": {},
            "cell_type": "code",
            "source": "# delete files from previous runs\n!rm -f jfk_weather*\n\n# download the file containing the data in CSV format\n!wget http://max-training-data.s3-api.us-geo.objectstorage.softlayer.net/noaa-weather/jfk_weather.tar.gz\n\n# extract the data\n!tar xvfz jfk_weather.tar.gz\n    \n# create a dataframe out of it by using the first row as field names and trying to infer a schema based on contents\ndf = spark.read.option(\"header\", \"true\").option(\"inferSchema\",\"true\").csv('jfk_weather.csv')\n\n# register a corresponding query table\ndf.createOrReplaceTempView('df')",
            "execution_count": 1,
            "outputs": [
                {
                    "output_type": "stream",
                    "text": "Waiting for a Spark session to start...\nSpark Initialization Done! ApplicationId = app-20200325032808-0000\nKERNEL_ID = 0af5476e-a306-4c83-8f09-f21a314adc37\n--2020-03-25 03:28:13--  http://max-training-data.s3-api.us-geo.objectstorage.softlayer.net/noaa-weather/jfk_weather.tar.gz\nResolving max-training-data.s3-api.us-geo.objectstorage.softlayer.net (max-training-data.s3-api.us-geo.objectstorage.softlayer.net)... 67.228.254.196\nConnecting to max-training-data.s3-api.us-geo.objectstorage.softlayer.net (max-training-data.s3-api.us-geo.objectstorage.softlayer.net)|67.228.254.196|:80... connected.\nHTTP request sent, awaiting response... 200 OK\nLength: 2575759 (2.5M) [application/x-tar]\nSaving to: 'jfk_weather.tar.gz'\n\n100%[======================================>] 2,575,759   --.-K/s   in 0.04s   \n\n2020-03-25 03:28:13 (69.3 MB/s) - 'jfk_weather.tar.gz' saved [2575759/2575759]\n\n./._jfk_weather.csv\njfk_weather.csv\n",
                    "name": "stdout"
                }
            ]
        },
        {
            "metadata": {
                "scrolled": false
            },
            "cell_type": "code",
            "source": "df.printSchema()",
            "execution_count": 2,
            "outputs": [
                {
                    "output_type": "stream",
                    "text": "root\n |-- STATION: string (nullable = true)\n |-- STATION_NAME: string (nullable = true)\n |-- ELEVATION: double (nullable = true)\n |-- LATITUDE: double (nullable = true)\n |-- LONGITUDE: double (nullable = true)\n |-- DATE: string (nullable = true)\n |-- REPORTTPYE: string (nullable = true)\n |-- HOURLYSKYCONDITIONS: string (nullable = true)\n |-- HOURLYVISIBILITY: string (nullable = true)\n |-- HOURLYPRSENTWEATHERTYPE: string (nullable = true)\n |-- HOURLYDRYBULBTEMPF: string (nullable = true)\n |-- HOURLYDRYBULBTEMPC: string (nullable = true)\n |-- HOURLYWETBULBTEMPF: string (nullable = true)\n |-- HOURLYWETBULBTEMPC: string (nullable = true)\n |-- HOURLYDewPointTempF: string (nullable = true)\n |-- HOURLYDewPointTempC: string (nullable = true)\n |-- HOURLYRelativeHumidity: string (nullable = true)\n |-- HOURLYWindSpeed: string (nullable = true)\n |-- HOURLYWindDirection: string (nullable = true)\n |-- HOURLYWindGustSpeed: integer (nullable = true)\n |-- HOURLYStationPressure: string (nullable = true)\n |-- HOURLYPressureTendency: integer (nullable = true)\n |-- HOURLYPressureChange: string (nullable = true)\n |-- HOURLYSeaLevelPressure: string (nullable = true)\n |-- HOURLYPrecip: string (nullable = true)\n |-- HOURLYAltimeterSetting: string (nullable = true)\n |-- DAILYMaximumDryBulbTemp: integer (nullable = true)\n |-- DAILYMinimumDryBulbTemp: integer (nullable = true)\n |-- DAILYAverageDryBulbTemp: integer (nullable = true)\n |-- DAILYDeptFromNormalAverageTemp: double (nullable = true)\n |-- DAILYAverageRelativeHumidity: integer (nullable = true)\n |-- DAILYAverageDewPointTemp: integer (nullable = true)\n |-- DAILYAverageWetBulbTemp: integer (nullable = true)\n |-- DAILYHeatingDegreeDays: integer (nullable = true)\n |-- DAILYCoolingDegreeDays: integer (nullable = true)\n |-- DAILYSunrise: integer (nullable = true)\n |-- DAILYSunset: integer (nullable = true)\n |-- DAILYWeather: string (nullable = true)\n |-- DAILYPrecip: string (nullable = true)\n |-- DAILYSnowfall: string (nullable = true)\n |-- DAILYSnowDepth: string (nullable = true)\n |-- DAILYAverageStationPressure: double (nullable = true)\n |-- DAILYAverageSeaLevelPressure: double (nullable = true)\n |-- DAILYAverageWindSpeed: double (nullable = true)\n |-- DAILYPeakWindSpeed: integer (nullable = true)\n |-- PeakWindDirection: integer (nullable = true)\n |-- DAILYSustainedWindSpeed: integer (nullable = true)\n |-- DAILYSustainedWindDirection: integer (nullable = true)\n |-- MonthlyMaximumTemp: double (nullable = true)\n |-- MonthlyMinimumTemp: double (nullable = true)\n |-- MonthlyMeanTemp: double (nullable = true)\n |-- MonthlyAverageRH: string (nullable = true)\n |-- MonthlyDewpointTemp: string (nullable = true)\n |-- MonthlyWetBulbTemp: string (nullable = true)\n |-- MonthlyAvgHeatingDegreeDays: integer (nullable = true)\n |-- MonthlyAvgCoolingDegreeDays: integer (nullable = true)\n |-- MonthlyStationPressure: double (nullable = true)\n |-- MonthlySeaLevelPressure: double (nullable = true)\n |-- MonthlyAverageWindSpeed: double (nullable = true)\n |-- MonthlyTotalSnowfall: string (nullable = true)\n |-- MonthlyDeptFromNormalMaximumTemp: double (nullable = true)\n |-- MonthlyDeptFromNormalMinimumTemp: double (nullable = true)\n |-- MonthlyDeptFromNormalAverageTemp: double (nullable = true)\n |-- MonthlyDeptFromNormalPrecip: string (nullable = true)\n |-- MonthlyTotalLiquidPrecip: string (nullable = true)\n |-- MonthlyGreatestPrecip: string (nullable = true)\n |-- MonthlyGreatestPrecipDate: string (nullable = true)\n |-- MonthlyGreatestSnowfall: string (nullable = true)\n |-- MonthlyGreatestSnowfallDate: string (nullable = true)\n |-- MonthlyGreatestSnowDepth: string (nullable = true)\n |-- MonthlyGreatestSnowDepthDate: integer (nullable = true)\n |-- MonthlyDaysWithGT90Temp: integer (nullable = true)\n |-- MonthlyDaysWithLT32Temp: integer (nullable = true)\n |-- MonthlyDaysWithGT32Temp: integer (nullable = true)\n |-- MonthlyDaysWithLT0Temp: integer (nullable = true)\n |-- MonthlyDaysWithGT001Precip: string (nullable = true)\n |-- MonthlyDaysWithGT010Precip: string (nullable = true)\n |-- MonthlyDaysWithGT1Snow: integer (nullable = true)\n |-- MonthlyMaxSeaLevelPressureValue: string (nullable = true)\n |-- MonthlyMaxSeaLevelPressureDate: integer (nullable = true)\n |-- MonthlyMaxSeaLevelPressureTime: integer (nullable = true)\n |-- MonthlyMinSeaLevelPressureValue: string (nullable = true)\n |-- MonthlyMinSeaLevelPressureDate: integer (nullable = true)\n |-- MonthlyMinSeaLevelPressureTime: integer (nullable = true)\n |-- MonthlyTotalHeatingDegreeDays: string (nullable = true)\n |-- MonthlyTotalCoolingDegreeDays: string (nullable = true)\n |-- MonthlyDeptFromNormalHeatingDD: string (nullable = true)\n |-- MonthlyDeptFromNormalCoolingDD: string (nullable = true)\n |-- MonthlyTotalSeasonToDateHeatingDD: integer (nullable = true)\n |-- MonthlyTotalSeasonToDateCoolingDD: integer (nullable = true)\n\n",
                    "name": "stdout"
                }
            ]
        },
        {
            "metadata": {},
            "cell_type": "code",
            "source": "df.select(\"HOURLYWindSpeed\", \"HOURLYWindDirection\", \"HOURLYStationPressure\", \"HOURLYPrecip\", \"HOURLYRelativeHumidity\", \"HOURLYDRYBULBTEMPC\", 'HOURLYPressureTendency').show(20)",
            "execution_count": 3,
            "outputs": [
                {
                    "output_type": "stream",
                    "text": "+---------------+-------------------+---------------------+------------+----------------------+------------------+----------------------+\n|HOURLYWindSpeed|HOURLYWindDirection|HOURLYStationPressure|HOURLYPrecip|HOURLYRelativeHumidity|HOURLYDRYBULBTEMPC|HOURLYPressureTendency|\n+---------------+-------------------+---------------------+------------+----------------------+------------------+----------------------+\n|              0|                000|                29.97|        0.01|                    92|               0.6|                     8|\n|              0|                000|                29.96|        null|                    92|               0.6|                     8|\n|              0|                000|                29.97|        0.02|                    96|               0.6|                  null|\n|              0|                000|                29.97|           T|                    93|               1.0|                  null|\n|              0|                000|                29.97|           T|                    93|               1.0|                  null|\n|              0|                000|                29.97|           T|                    96|               0.6|                  null|\n|              0|                000|                29.95|           T|                    96|               0.6|                     8|\n|              0|                000|                29.94|        null|                    96|               0.6|                     8|\n|              0|                000|                29.93|           T|                    92|               0.6|                  null|\n|              0|                000|                29.95|        null|                    87|               1.0|                  null|\n|              0|                000|                29.95|           T|                    92|               0.6|                  null|\n|              0|                000|                29.94|        0.00|                    96|               0.6|                     6|\n|              0|                000|                29.93|        null|                    96|               0.6|                     6|\n|              3|                220|                29.93|        null|                    93|               1.0|                  null|\n|              0|                000|                29.93|        null|                    93|               1.0|                  null|\n|              3|                270|                29.93|        0.00|                    96|               0.6|                  null|\n|              5|                260|                29.92|        null|                    93|               1.0|                  null|\n|              3|                250|                29.92|        null|                    93|               1.0|                  null|\n|              3|                250|                29.92|        0.00|                    92|               1.1|                  null|\n|              6|                250|                29.91|        0.00|                    89|               1.7|                     6|\n+---------------+-------------------+---------------------+------------+----------------------+------------------+----------------------+\nonly showing top 20 rows\n\n",
                    "name": "stdout"
                }
            ]
        },
        {
            "metadata": {},
            "cell_type": "code",
            "source": "df.select(\"HOURLYWindSpeed\", \"HOURLYWindDirection\", \"HOURLYStationPressure\", \"HOURLYPrecip\", \"HOURLYRelativeHumidity\", \"HOURLYDRYBULBTEMPC\").dtypes",
            "execution_count": 4,
            "outputs": [
                {
                    "output_type": "execute_result",
                    "execution_count": 4,
                    "data": {
                        "text/plain": "[('HOURLYWindSpeed', 'string'),\n ('HOURLYWindDirection', 'string'),\n ('HOURLYStationPressure', 'string'),\n ('HOURLYPrecip', 'string'),\n ('HOURLYRelativeHumidity', 'string'),\n ('HOURLYDRYBULBTEMPC', 'string')]"
                    },
                    "metadata": {}
                }
            ]
        },
        {
            "metadata": {},
            "cell_type": "markdown",
            "source": "The dataset contains some null values, therefore schema inference didn\u2019t work properly for all columns, in addition, a column contained trailing characters, so we need to clean up the data set first."
        },
        {
            "metadata": {},
            "cell_type": "code",
            "source": "import random\nrandom.seed(42)\n\nfrom pyspark.sql.functions import translate, col\n\n# Below translate(col(\"HOURLYStationPressure\"), \"s,\", \"\")) means some data has 's' in it and it is replaced (translated) with ''. Same for others\ndf_cleaned = df \\\n    .withColumn(\"HOURLYWindSpeed\", df.HOURLYWindSpeed.cast('double')) \\\n    .withColumn(\"HOURLYWindDirection\", df.HOURLYWindDirection.cast('double')) \\\n    .withColumn(\"HOURLYStationPressure\", translate(col(\"HOURLYStationPressure\"), \"s,\", \"\")) \\\n    .withColumn(\"HOURLYPrecip\", translate(col(\"HOURLYPrecip\"), \"s,\", \"\")) \\\n    .withColumn(\"HOURLYRelativeHumidity\", translate(col(\"HOURLYRelativeHumidity\"), \"*\", \"\")) \\\n    .withColumn(\"HOURLYDRYBULBTEMPC\", translate(col(\"HOURLYDRYBULBTEMPC\"), \"*\", \"\")) \\\n\ndf_cleaned =   df_cleaned \\\n                    .withColumn(\"HOURLYStationPressure\", df_cleaned.HOURLYStationPressure.cast('double')) \\\n                    .withColumn(\"HOURLYPrecip\", df_cleaned.HOURLYPrecip.cast('double')) \\\n                    .withColumn(\"HOURLYRelativeHumidity\", df_cleaned.HOURLYRelativeHumidity.cast('double')) \\\n                    .withColumn(\"HOURLYDRYBULBTEMPC\", df_cleaned.HOURLYDRYBULBTEMPC.cast('double')) \\\n\ndf_filtered = df_cleaned.filter(\"\"\"\n    HOURLYWindSpeed <> 0 -- filters with data less or more than 0\n    and HOURLYWindDirection <> 0\n    and HOURLYStationPressure <> 0\n    and HOURLYPressureTendency <> 0\n    and HOURLYPressureTendency <> 0\n    and HOURLYPrecip <> 0\n    and HOURLYRelativeHumidity <> 0\n    and HOURLYDRYBULBTEMPC <> 0\n\"\"\")",
            "execution_count": 5,
            "outputs": []
        },
        {
            "metadata": {},
            "cell_type": "code",
            "source": "df_cleaned.select(\"HOURLYWindSpeed\", \"HOURLYWindDirection\", \"HOURLYStationPressure\", \"HOURLYPrecip\", \"HOURLYRelativeHumidity\", \"HOURLYDRYBULBTEMPC\").show(10)",
            "execution_count": 6,
            "outputs": [
                {
                    "output_type": "stream",
                    "text": "+---------------+-------------------+---------------------+------------+----------------------+------------------+\n|HOURLYWindSpeed|HOURLYWindDirection|HOURLYStationPressure|HOURLYPrecip|HOURLYRelativeHumidity|HOURLYDRYBULBTEMPC|\n+---------------+-------------------+---------------------+------------+----------------------+------------------+\n|            0.0|                0.0|                29.97|        0.01|                  92.0|               0.6|\n|            0.0|                0.0|                29.96|        null|                  92.0|               0.6|\n|            0.0|                0.0|                29.97|        0.02|                  96.0|               0.6|\n|            0.0|                0.0|                29.97|        null|                  93.0|               1.0|\n|            0.0|                0.0|                29.97|        null|                  93.0|               1.0|\n|            0.0|                0.0|                29.97|        null|                  96.0|               0.6|\n|            0.0|                0.0|                29.95|        null|                  96.0|               0.6|\n|            0.0|                0.0|                29.94|        null|                  96.0|               0.6|\n|            0.0|                0.0|                29.93|        null|                  92.0|               0.6|\n|            0.0|                0.0|                29.95|        null|                  87.0|               1.0|\n+---------------+-------------------+---------------------+------------+----------------------+------------------+\nonly showing top 10 rows\n\n",
                    "name": "stdout"
                }
            ]
        },
        {
            "metadata": {},
            "cell_type": "code",
            "source": "df_filtered.select(\"HOURLYWindSpeed\", \"HOURLYWindDirection\", \"HOURLYStationPressure\", \"HOURLYPrecip\", \"HOURLYRelativeHumidity\", \"HOURLYDRYBULBTEMPC\").show(10)",
            "execution_count": 7,
            "outputs": [
                {
                    "output_type": "stream",
                    "text": "+---------------+-------------------+---------------------+------------+----------------------+------------------+\n|HOURLYWindSpeed|HOURLYWindDirection|HOURLYStationPressure|HOURLYPrecip|HOURLYRelativeHumidity|HOURLYDRYBULBTEMPC|\n+---------------+-------------------+---------------------+------------+----------------------+------------------+\n|           10.0|               80.0|                29.98|        0.02|                  77.0|               4.4|\n|           20.0|               70.0|                29.84|        0.07|                  89.0|               3.9|\n|           11.0|               50.0|                29.76|        0.15|                  96.0|               3.9|\n|           23.0|               40.0|                29.58|        0.02|                  93.0|               3.9|\n|           25.0|               30.0|                29.45|        0.01|                  89.0|               3.9|\n|           29.0|              150.0|                 29.6|        0.01|                  89.0|              10.6|\n|           33.0|              140.0|                29.46|        0.09|                  93.0|              11.1|\n|           39.0|              170.0|                29.33|        0.11|                  93.0|              11.7|\n|            8.0|               30.0|                30.06|        0.01|                  82.0|              -1.7|\n|           14.0|               50.0|                29.43|        0.04|                  92.0|              -0.6|\n+---------------+-------------------+---------------------+------------+----------------------+------------------+\nonly showing top 10 rows\n\n",
                    "name": "stdout"
                }
            ]
        },
        {
            "metadata": {},
            "cell_type": "markdown",
            "source": "We want to predict the value of one column based of some others. It is sometimes helpful to print a correlation matrix. "
        },
        {
            "metadata": {},
            "cell_type": "code",
            "source": "from pyspark.ml.feature import VectorAssembler\nvectorAssembler = VectorAssembler(inputCols=[\"HOURLYWindSpeed\",\"HOURLYWindDirection\",\"HOURLYStationPressure\", 'HOURLYPressureTendency'],\n                                  outputCol=\"features\")\ndf_pipeline = vectorAssembler.transform(df_filtered)\nfrom pyspark.ml.stat import Correlation\nCorrelation.corr(df_pipeline,\"features\").head()[0].toArray()",
            "execution_count": 8,
            "outputs": [
                {
                    "output_type": "execute_result",
                    "execution_count": 8,
                    "data": {
                        "text/plain": "array([[ 1.        ,  0.06306013, -0.4204518 ,  0.06432947],\n       [ 0.06306013,  1.        , -0.19199348, -0.27956253],\n       [-0.4204518 , -0.19199348,  1.        ,  0.00581104],\n       [ 0.06432947, -0.27956253,  0.00581104,  1.        ]])"
                    },
                    "metadata": {}
                }
            ]
        },
        {
            "metadata": {},
            "cell_type": "markdown",
            "source": "As we can see, HOURLYWindSpeed and HOURLYWindDirection correlate with 0.06306013 whereas HOURLYWindSpeed  and HOURLYStationPressure correlate with -0.4204518, this is a good sign if we want to predict HOURLYWindSpeed from HOURLYWindDirection and HOURLYStationPressure.\nSince this is supervised learning, let\u2019s split our data into train (80%) and test (20%) set."
        },
        {
            "metadata": {},
            "cell_type": "code",
            "source": "splits = df_filtered.randomSplit([0.8, 0.2])\ndf_train = splits[0]\ndf_test = splits[1]",
            "execution_count": 9,
            "outputs": []
        },
        {
            "metadata": {},
            "cell_type": "markdown",
            "source": "Again, we can re-use our feature engineering pipeline"
        },
        {
            "metadata": {},
            "cell_type": "code",
            "source": "from pyspark.ml.feature import StringIndexer, OneHotEncoder\nfrom pyspark.ml.linalg import Vectors\nfrom pyspark.ml.feature import VectorAssembler\nfrom pyspark.ml.feature import Normalizer\nfrom pyspark.ml import Pipeline\n\nvectorAssembler = VectorAssembler(inputCols=[\n                                    \"HOURLYWindDirection\",\n                                    \"ELEVATION\",\n                                    \"HOURLYStationPressure\"],\n                                  outputCol=\"features\")\n\nnormalizer = Normalizer(inputCol=\"features\", outputCol=\"features_norm\", p=1.0)",
            "execution_count": 10,
            "outputs": []
        },
        {
            "metadata": {},
            "cell_type": "markdown",
            "source": "Now we define a function for evaluating our regression prediction performance. We\u2019re using RMSE (Root Mean Squared Error) here , the smaller the better\u2026\n\n"
        },
        {
            "metadata": {},
            "cell_type": "code",
            "source": "def regression_metrics(prediction):\n    from pyspark.ml.evaluation import RegressionEvaluator\n    evaluator = RegressionEvaluator(\n    labelCol=\"HOURLYWindSpeed\", predictionCol=\"prediction\", metricName=\"rmse\")\n    rmse = evaluator.evaluate(prediction)\n    print(\"RMSE on test data = %g\" % rmse)",
            "execution_count": 11,
            "outputs": []
        },
        {
            "metadata": {},
            "cell_type": "markdown",
            "source": "Let\u2019s run a linear regression model first for building a baseline.\n\n"
        },
        {
            "metadata": {},
            "cell_type": "code",
            "source": "#LR1\n\nfrom pyspark.ml.regression import LinearRegression\n\n\nlr = LinearRegression(labelCol=\"HOURLYWindSpeed\", featuresCol='features_norm', maxIter=100, regParam=0.0, elasticNetParam=0.0)\npipeline = Pipeline(stages=[vectorAssembler, normalizer,lr])\nmodel = pipeline.fit(df_train)\nprediction = model.transform(df_test)\nregression_metrics(prediction)",
            "execution_count": 13,
            "outputs": [
                {
                    "output_type": "stream",
                    "text": "RMSE on test data = 6.57084\n",
                    "name": "stdout"
                }
            ]
        },
        {
            "metadata": {},
            "cell_type": "code",
            "source": "from pyspark.ml.evaluation import MulticlassClassificationEvaluator\nMulticlassClassificationEvaluator().setMetricName(\"accuracy\") .setPredictionCol(\"prediction\").setLabelCol(\"HOURLYWindSpeed\").evaluate(prediction)",
            "execution_count": 14,
            "outputs": [
                {
                    "output_type": "execute_result",
                    "execution_count": 14,
                    "data": {
                        "text/plain": "0.0"
                    },
                    "metadata": {}
                }
            ]
        },
        {
            "metadata": {},
            "cell_type": "markdown",
            "source": "Now we\u2019ll try a Gradient Boosted Tree Regressor"
        },
        {
            "metadata": {},
            "cell_type": "code",
            "source": "#GBT1\n\nfrom pyspark.ml.regression import GBTRegressor\ngbt = GBTRegressor(labelCol=\"HOURLYWindSpeed\", maxIter=100)\npipeline = Pipeline(stages=[vectorAssembler, normalizer,gbt])\nmodel = pipeline.fit(df_train)\nprediction = model.transform(df_test)\nregression_metrics(prediction)",
            "execution_count": 15,
            "outputs": [
                {
                    "output_type": "stream",
                    "text": "RMSE on test data = 7.01428\n",
                    "name": "stdout"
                }
            ]
        },
        {
            "metadata": {},
            "cell_type": "markdown",
            "source": "Now let\u2019s switch gears. Previously, we tried to predict HOURLYWindSpeed, but now we predict HOURLYWindDirection. In order to turn this into a classification problem we discretize the value using the Bucketizer. The new feature is called HOURLYWindDirectionBucketized."
        },
        {
            "metadata": {},
            "cell_type": "code",
            "source": "from pyspark.ml.feature import Bucketizer, OneHotEncoder\nbucketizer = Bucketizer(splits=[ 0, 180, float('Inf') ],inputCol=\"HOURLYWindDirection\", outputCol=\"HOURLYWindDirectionBucketized\")\nencoder = OneHotEncoder(inputCol=\"HOURLYWindDirectionBucketized\", outputCol=\"HOURLYWindDirectionOHE\")\n",
            "execution_count": 16,
            "outputs": []
        },
        {
            "metadata": {},
            "cell_type": "markdown",
            "source": "Again, we define a function in order to assess how we perform. Here we just use the accuracy measure which gives us the fraction of correctly classified examples. Again, 0 is bad, 1 is good."
        },
        {
            "metadata": {},
            "cell_type": "code",
            "source": "def classification_metrics(prediction):\n    from pyspark.ml.evaluation import MulticlassClassificationEvaluator\n    mcEval = MulticlassClassificationEvaluator().setMetricName(\"accuracy\") .setPredictionCol(\"prediction\").setLabelCol(\"HOURLYWindDirectionBucketized\")\n    accuracy = mcEval.evaluate(prediction)\n    print(\"Accuracy on test data = %g\" % accuracy)",
            "execution_count": 17,
            "outputs": []
        },
        {
            "metadata": {},
            "cell_type": "markdown",
            "source": "Again, for baselining we use LogisticRegression."
        },
        {
            "metadata": {},
            "cell_type": "code",
            "source": "#LGReg1\n\nfrom pyspark.ml.classification import LogisticRegression\nlr = LogisticRegression(labelCol=\"HOURLYWindDirectionBucketized\", maxIter=10)\n#,\"ELEVATION\",\"HOURLYStationPressure\",\"HOURLYPressureTendency\",\"HOURLYPrecip\"\n\nvectorAssembler = VectorAssembler(inputCols=[\"HOURLYWindSpeed\",\"HOURLYDRYBULBTEMPC\"],\n                                  outputCol=\"features\")\n\npipeline = Pipeline(stages=[bucketizer,vectorAssembler,normalizer,lr])\nmodel = pipeline.fit(df_train)\nprediction = model.transform(df_test)\nclassification_metrics(prediction)",
            "execution_count": 18,
            "outputs": [
                {
                    "output_type": "stream",
                    "text": "Accuracy on test data = 0.613208\n",
                    "name": "stdout"
                }
            ]
        },
        {
            "metadata": {},
            "cell_type": "markdown",
            "source": "Let\u2019s try some other Algorithms and see if model performance increases. It\u2019s also important to tweak other parameters like parameters of individual algorithms (e.g. number of trees for RandomForest) or parameters in the feature engineering pipeline, e.g. train/test split ratio, normalization, bucketing, \u2026"
        },
        {
            "metadata": {},
            "cell_type": "code",
            "source": "#RF1\n\nfrom pyspark.ml.classification import RandomForestClassifier\nrf = RandomForestClassifier(labelCol=\"HOURLYWindDirectionBucketized\", numTrees=10)\n\nvectorAssembler = VectorAssembler(inputCols=[\"HOURLYWindSpeed\",\"HOURLYDRYBULBTEMPC\",\"ELEVATION\",\"HOURLYStationPressure\",\"HOURLYPressureTendency\",\"HOURLYPrecip\"],\n                                  outputCol=\"features\")\n\npipeline = Pipeline(stages=[bucketizer,vectorAssembler,normalizer,rf])\nmodel = pipeline.fit(df_train)\nprediction = model.transform(df_test)\nclassification_metrics(prediction)",
            "execution_count": 21,
            "outputs": [
                {
                    "output_type": "stream",
                    "text": "Accuracy on test data = 0.701258\n",
                    "name": "stdout"
                }
            ]
        },
        {
            "metadata": {},
            "cell_type": "code",
            "source": "#GBT2\n\nfrom pyspark.ml.classification import GBTClassifier\ngbt = GBTClassifier(labelCol=\"HOURLYWindDirectionBucketized\", maxIter=100)\n\nvectorAssembler = VectorAssembler(inputCols=[\"HOURLYWindSpeed\",\"HOURLYDRYBULBTEMPC\",\"ELEVATION\",\"HOURLYStationPressure\",\"HOURLYPressureTendency\",\"HOURLYPrecip\"],\n                                  outputCol=\"features\")\n\npipeline = Pipeline(stages=[bucketizer,vectorAssembler,normalizer,gbt])\nmodel = pipeline.fit(df_train)\nprediction = model.transform(df_test)\nclassification_metrics(prediction)",
            "execution_count": 20,
            "outputs": [
                {
                    "output_type": "stream",
                    "text": "Accuracy on test data = 0.688679\n",
                    "name": "stdout"
                }
            ]
        }
    ],
    "metadata": {
        "kernelspec": {
            "name": "python36",
            "display_name": "Python 3.6 with Spark",
            "language": "python3"
        },
        "language_info": {
            "mimetype": "text/x-python",
            "nbconvert_exporter": "python",
            "name": "python",
            "pygments_lexer": "ipython3",
            "version": "3.6.8",
            "file_extension": ".py",
            "codemirror_mode": {
                "version": 3,
                "name": "ipython"
            }
        }
    },
    "nbformat": 4,
    "nbformat_minor": 1
}